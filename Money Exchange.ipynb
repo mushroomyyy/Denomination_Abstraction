{
 "cells": [
  {
   "cell_type": "code",
   "execution_count": null,
   "metadata": {},
   "outputs": [],
   "source": [
    "amount = round(float(input(\"Enter payment amount (US$) :\")),2)\n",
    "# amount_in_cents = int(round(amount * 100))\n",
    "\n",
    "# ################################\n",
    "# Write your code below:\n",
    "# ################################\n",
    "\n",
    "number_of_20_dollar_notes = int(amount // 20)\n",
    "remainder_of_20_dollar_notes = round(amount % 20, 2)\n",
    "\n",
    "number_of_10_dollar_notes = int(remainder_of_20_dollar_notes // 10)\n",
    "remainder_of_10_dollar_notes = round(remainder_of_20_dollar_notes % 10, 2)\n",
    "\n",
    "number_of_5_dollar_notes = int(remainder_of_10_dollar_notes // 5)\n",
    "remainder_of_5_dollar_notes = round(remainder_of_10_dollar_notes % 5, 2)\n",
    "\n",
    "number_of_1_dollar_notes = int(remainder_of_5_dollar_notes // 1)\n",
    "remainder_of_1_dollar_notes = round(remainder_of_5_dollar_notes % 1, 2)\n",
    "\n",
    "number_of_quarter_coins = int(remainder_of_1_dollar_notes // 0.25)\n",
    "remainder_of_quarter_coins = round(remainder_of_1_dollar_notes % 0.25, 2)\n",
    "\n",
    "number_of_dime_coins = int(remainder_of_quarter_coins // 0.1)\n",
    "remainder_of_dime_coins = round(remainder_of_quarter_coins % 0.1, 2)\n",
    "\n",
    "number_of_nickel_coins = int(remainder_of_dime_coins // 0.05)\n",
    "remainder_of_nickel_coins = round(remainder_of_dime_coins % 0.05, 2)\n",
    "\n",
    "number_of_penny_coins = int(remainder_of_nickel_coins // 0.01)\n",
    "remainder_of_penny_coins = round(remainder_of_nickel_coins % 0.01, 2)\n",
    "\n",
    "\n",
    "\n",
    "print(\"\\n You need to give: \\n          \" + str(number_of_20_dollar_notes) + \"($20 notes)\" + \"\\n          \" + str(number_of_10_dollar_notes) + \"($10 notes)\" + \"\\n          \" + str(number_of_5_dollar_notes) + \"($5 notes)\" + \"\\n          \" + str(number_of_1_dollar_notes) + \"($1 notes)\" + \"\\n          \" + str(number_of_quarter_coins) + \"(quarter coins)\" + \"\\n          \" + str(number_of_dime_coins) + \"(dime coins)\" + \"\\n          \" + str(number_of_nickel_coins) + \"(nickel coins)\" + \"\\n          \" + str(number_of_penny_coins) + \"(penny coins)\")"
   ]
  }
 ],
 "metadata": {
  "language_info": {
   "name": "python"
  },
  "orig_nbformat": 4
 },
 "nbformat": 4,
 "nbformat_minor": 2
}
