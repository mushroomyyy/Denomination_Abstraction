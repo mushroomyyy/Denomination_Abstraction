{
 "cells": [
  {
   "cell_type": "code",
   "execution_count": 2,
   "metadata": {},
   "outputs": [
    {
     "name": "stdout",
     "output_type": "stream",
     "text": [
      "\n",
      " You need to give: \n",
      "          262626262 x ($20 notes)\n",
      "          1x ($10 notes)\n",
      "          0x ($5 notes)\n",
      "          2x ($1 notes)\n",
      "          2x (quarter coins)\n",
      "          0x (dime coins)\n",
      "          0x (nickel coins)\n",
      "          2x (penny coins)\n"
     ]
    }
   ],
   "source": [
    "# Denomination Abstraction\n",
    "## This program aims to provide an exact number of denomination to pay by requiring the user to:\n",
    "### 1. Input the payment amount in ($USD)\n",
    "#### and the program outputs the exact number of denomination that the user has to give exactly.\n",
    "\n",
    "amount = round(float(input(\"Enter payment amount (US$) :\")),2)\n",
    "amount_in_cents = int(round(amount * 100))\n",
    "\n",
    "\n",
    "number_of_20_dollar_notes = int(amount // 20)\n",
    "remainder_of_20_dollar_notes = round(amount % 20, 2)\n",
    "\n",
    "number_of_10_dollar_notes = int(remainder_of_20_dollar_notes // 10)\n",
    "remainder_of_10_dollar_notes = round(remainder_of_20_dollar_notes % 10, 2)\n",
    "\n",
    "number_of_5_dollar_notes = int(remainder_of_10_dollar_notes // 5)\n",
    "remainder_of_5_dollar_notes = round(remainder_of_10_dollar_notes % 5, 2)\n",
    "\n",
    "number_of_1_dollar_notes = int(remainder_of_5_dollar_notes // 1)\n",
    "remainder_of_1_dollar_notes = round(remainder_of_5_dollar_notes % 1, 2)\n",
    "\n",
    "number_of_quarter_coins = int(remainder_of_1_dollar_notes // 0.25)\n",
    "remainder_of_quarter_coins = round(remainder_of_1_dollar_notes % 0.25, 2)\n",
    "\n",
    "number_of_dime_coins = int(remainder_of_quarter_coins // 0.1)\n",
    "remainder_of_dime_coins = round(remainder_of_quarter_coins % 0.1, 2)\n",
    "\n",
    "number_of_nickel_coins = int(remainder_of_dime_coins // 0.05)\n",
    "remainder_of_nickel_coins = round(remainder_of_dime_coins % 0.05, 2)\n",
    "\n",
    "number_of_penny_coins = int(remainder_of_nickel_coins // 0.01)\n",
    "remainder_of_penny_coins = round(remainder_of_nickel_coins % 0.01, 2)\n",
    "\n",
    "\n",
    "\n",
    "print(\"\\n You need to give: \\n          \" + str(number_of_20_dollar_notes) + \" x ($20 notes)\" + \"\\n          \" + str(number_of_10_dollar_notes) + \" x ($10 notes)\" + \"\\n          \" + str(number_of_5_dollar_notes) + \" x ($5 notes)\" + \"\\n          \" + str(number_of_1_dollar_notes) + \" x ($1 notes)\" + \"\\n          \" + str(number_of_quarter_coins) + \" x (quarter coins)\" + \"\\n          \" + str(number_of_dime_coins) + \" x (dime coins)\" + \"\\n          \" + str(number_of_nickel_coins) + \" x (nickel coins)\" + \"\\n          \" + str(number_of_penny_coins) + \" x (penny coins)\")"
   ]
  }
 ],
 "metadata": {
  "kernelspec": {
   "display_name": "Python 3.10.7 64-bit",
   "language": "python",
   "name": "python3"
  },
  "language_info": {
   "codemirror_mode": {
    "name": "ipython",
    "version": 3
   },
   "file_extension": ".py",
   "mimetype": "text/x-python",
   "name": "python",
   "nbconvert_exporter": "python",
   "pygments_lexer": "ipython3",
   "version": "3.10.7"
  },
  "orig_nbformat": 4,
  "vscode": {
   "interpreter": {
    "hash": "9b12f4b2799038f8f402948777105b13b46c51a445763b65ac22b83a39e2f526"
   }
  }
 },
 "nbformat": 4,
 "nbformat_minor": 2
}
